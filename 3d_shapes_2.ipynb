{
 "cells": [
  {
   "cell_type": "code",
   "execution_count": 2,
   "id": "ccf529fa",
   "metadata": {},
   "outputs": [],
   "source": [
    "import numpy as np\n",
    "import time\n",
    "import ot\n",
    "from tqdm import trange\n",
    "import matplotlib.pyplot as plt\n",
    "from utils import *\n",
    "\n",
    "from sklearn.model_selection import train_test_split\n",
    "from sklearn import svm\n",
    "from sklearn.metrics import accuracy_score"
   ]
  },
  {
   "cell_type": "code",
   "execution_count": 3,
   "id": "b04451ac",
   "metadata": {},
   "outputs": [],
   "source": [
    "N = 73\n",
    "ks = [25,50,75,100]\n",
    "lengths = [11, 10, 11, 10, 10, 11, 10]"
   ]
  },
  {
   "cell_type": "code",
   "execution_count": 4,
   "id": "31a1f9d0",
   "metadata": {},
   "outputs": [],
   "source": [
    "def mm_3d_subsamples(k):\n",
    "    for i in range(N):\n",
    "        tmp1 = np.loadtxt(\"./data/3d/Ds/D_k=\" + str(k) + \"_i=\" + str(i))\n",
    "        tmp2 = np.loadtxt(\"./data/3d/heights/height_k=\" + str(k) + \"_i=\" + str(i))\n",
    "        yield tmp1,tmp2"
   ]
  },
  {
   "cell_type": "code",
   "execution_count": 5,
   "id": "e88d8357",
   "metadata": {},
   "outputs": [],
   "source": [
    "class_names = [\"camel\",\"cat\",\"elephant\",\"face\",\"head\",\"horse\",\"lion\"]\n",
    "x_ticks = [5, 15,26,36,46,57,68]"
   ]
  },
  {
   "cell_type": "code",
   "execution_count": 6,
   "id": "1daa1a0c",
   "metadata": {},
   "outputs": [],
   "source": [
    "#k = 50, k_bary = 50"
   ]
  },
  {
   "cell_type": "code",
   "execution_count": 7,
   "id": "d860527c",
   "metadata": {},
   "outputs": [
    {
     "data": {
      "application/vnd.jupyter.widget-view+json": {
       "model_id": "1ecfff3d2aaf4882a90f4846d868fd27",
       "version_major": 2,
       "version_minor": 0
      },
      "text/plain": [
       "  0%|          | 0/73 [00:00<?, ?it/s]"
      ]
     },
     "metadata": {},
     "output_type": "display_data"
    },
    {
     "name": "stdout",
     "output_type": "stream",
     "text": [
      "GW computation: 14.19 seconds.\n",
      "Barycenter computation: 4.57 seconds.\n",
      "LGW computation 1: 0.66 seconds.\n",
      "LGW computation 2: 0.69 seconds.\n"
     ]
    }
   ],
   "source": [
    "np.random.seed(0)\n",
    "\n",
    "k = 50\n",
    "k_bary = 50\n",
    "\n",
    "#load distance matrices and measures\n",
    "Ms = []\n",
    "heights = []\n",
    "for mm in mm_3d_subsamples(k):\n",
    "    Ms.append(mm[0]/np.max(mm[0]))\n",
    "    heights.append(mm[1])\n",
    "    \n",
    "#pairwise gw\n",
    "gw = np.zeros((N,N))\n",
    "#Ps_gw = np.zeros((N,N,k,k))\n",
    "st = time.time()\n",
    "for i in trange(N):\n",
    "    for j in range(i+1,N):\n",
    "        tmp = ot.gromov.gromov_wasserstein2(Ms[i],Ms[j],heights[i],heights[j],loss_fun=\"square_loss\",log=True)\n",
    "        gw[i,j] = tmp[0]\n",
    "        #Ps_gw[i,j] = tmp[1][\"T\"]\n",
    "gw = np.sqrt(gw)\n",
    "gw += gw.T\n",
    "et = time.time()\n",
    "print(\"GW computation: \" + str(np.round(et-st,2)) + \" seconds.\")\n",
    "\n",
    "#plot\n",
    "#plt.figure(figsize=(10,10))\n",
    "#plt.xticks(x_ticks, class_names,fontsize=17)\n",
    "#plt.yticks(x_ticks, class_names,fontsize=17)\n",
    "#plt.imshow(gw,cmap = \"jet\")\n",
    "#plt.colorbar()\n",
    "#plt.show()\n",
    "\n",
    "#calculate barycenter\n",
    "st = time.time()\n",
    "idx_bary = np.array([int(np.sum(lengths[:i])) for i in range(len(lengths))])\n",
    "n = len(idx_bary)\n",
    "height_ref = ot.unif(k_bary)\n",
    "M_ref = ot.gromov.gromov_barycenters(k_bary, Cs = np.array(Ms)[idx_bary],\n",
    "                                           ps = np.array(heights)[idx_bary], p = height_ref, lambdas = ot.unif(n), loss_fun='square_loss',  # 5e-4,\n",
    "                                           max_iter=200, tol=1e-3,random_state=0)\n",
    "et = time.time()\n",
    "print(\"Barycenter computation: \" + str(np.round(et-st,2)) + \" seconds.\")\n",
    "\n",
    "\n",
    "#S=bary\n",
    "lgw1,t1 = lgw_procedure(M_ref,height_ref,None,Ms,heights,mode=\"graph\")\n",
    "print(\"LGW computation 1: \" + str(np.round(t1,2)) + \" seconds.\")\n",
    "\n",
    "#\n",
    "#S=Camel 10\n",
    "lgw2,t2 = lgw_procedure(Ms[10],heights[10],None,Ms,heights,mode=\"graph\")\n",
    "print(\"LGW computation 2: \" + str(np.round(t2,2)) + \" seconds.\")"
   ]
  },
  {
   "cell_type": "code",
   "execution_count": 8,
   "id": "132b5426",
   "metadata": {},
   "outputs": [],
   "source": [
    "m_gw = np.ma.masked_equal(gw, 0.0, copy=False)\n",
    "m_lgw1 = np.ma.masked_equal(lgw1, 0.0, copy=False)\n",
    "m_lgw2 = np.ma.masked_equal(lgw2, 0.0, copy=False)\n",
    "\n",
    "mre1 = np.mean(np.abs(m_gw - m_lgw1)/m_gw)\n",
    "mre2 = np.mean(np.abs(m_gw - m_lgw2)/m_gw)"
   ]
  },
  {
   "cell_type": "code",
   "execution_count": 9,
   "id": "dddffca5",
   "metadata": {},
   "outputs": [
    {
     "name": "stdout",
     "output_type": "stream",
     "text": [
      "       PCC    MRE\n",
      " LGW1: 0.954  0.123\n",
      " LGW2: 0.847  0.211\n"
     ]
    }
   ],
   "source": [
    "print(\"       PCC    MRE\" \n",
    "      +\"\\n LGW1: \" + str(np.round(np.corrcoef(gw.flatten(),lgw1.flatten())[0,1],3)) + \"  \" + str(np.round(mre1,3))\n",
    "      +\"\\n LGW2: \" + str(np.round(np.corrcoef(gw.flatten(),lgw2.flatten())[0,1],3)) + \"  \" + str(np.round(mre2,3)))"
   ]
  },
  {
   "cell_type": "code",
   "execution_count": 10,
   "id": "772db437",
   "metadata": {},
   "outputs": [
    {
     "data": {
      "image/png": "[encoded data removed]",
      "text/plain": [
       "<Figure size 1296x432 with 6 Axes>"
      ]
     },
     "metadata": {
      "needs_background": "light"
     },
     "output_type": "display_data"
    }
   ],
   "source": [
    "data1 = gw\n",
    "data2 = lgw1\n",
    "data3 = lgw2\n",
    "\n",
    "resultant = [data1,data2,data3]\n",
    "\n",
    "min_val, max_val = np.amin(resultant), np.amax(resultant)\n",
    "\n",
    "\n",
    "# Set up figure and image grid\n",
    "fig = plt.figure(figsize=(18, 6))\n",
    "\n",
    "\n",
    "grid = ImageGrid(fig, 111,          # as in plt.subplot(111)\n",
    "                 nrows_ncols=(1,3),\n",
    "                 axes_pad=0.15,\n",
    "                 share_all=True,\n",
    "                 cbar_location=\"right\",\n",
    "                 cbar_mode=\"single\",\n",
    "                 cbar_size=\"7%\",\n",
    "                 cbar_pad=0.15,\n",
    "                 )\n",
    "\n",
    "plt.setp(grid, xticks=x_ticks, xticklabels=class_names,\n",
    "        yticks=x_ticks, yticklabels=class_names)\n",
    "\n",
    "# Add data to image grid\n",
    "i=0\n",
    "for ax in grid:\n",
    "    ax.xaxis.get_label().set_fontsize(20)\n",
    "    ax.yaxis.get_label().set_fontsize(20)\n",
    "    #ax_set\n",
    "    if i == 0:\n",
    "        im = ax.imshow(gw, vmin = min_val, vmax = max_val,cmap = \"jet\")\n",
    "    elif i == 1:\n",
    "        im = ax.imshow(lgw1, vmin = min_val, vmax = max_val,cmap = \"jet\")\n",
    "    else:\n",
    "        im = ax.imshow(lgw2, vmin = min_val, vmax = max_val,cmap = \"jet\")\n",
    "    i+=1\n",
    "\n",
    "# Colorbar\n",
    "ax.cax.colorbar(im)\n",
    "#matplotlib.colorbar.Colorbar(ax.cax,im)\n",
    "#ax.cax.cla()\n",
    "ax.cax.toggle_label(True)\n",
    "\n",
    "#plt.tight_layout()    # Works, but may still require rect paramater to keep colorbar labels visible\n",
    "plt.show()"
   ]
  },
  {
   "cell_type": "markdown",
   "id": "d94bfda1",
   "metadata": {},
   "source": [
    "# Confusion matrix"
   ]
  },
  {
   "cell_type": "code",
   "execution_count": 11,
   "id": "245c2b7d",
   "metadata": {},
   "outputs": [],
   "source": [
    "def conf_mat(dists,X,y,n_its = 10000):\n",
    "    N = len(y)\n",
    "    classes = np.array(np.unique(y),dtype=int)\n",
    "    x_pred = []\n",
    "    x_true = []\n",
    "    for j in range(n_its):\n",
    "        l = []\n",
    "        for i in classes:\n",
    "            l.append([np.random.choice(X[y == i]),i])\n",
    "        l = np.array(l)\n",
    "        for i in range(N):\n",
    "            tmp1 = np.argmin(dists[i][l[:,0]])\n",
    "            x_true.append(y[i])\n",
    "            x_pred.append(tmp1)\n",
    "    \n",
    "    conf = sklearn.metrics.confusion_matrix(x_true, x_pred)\n",
    "    return conf"
   ]
  },
  {
   "cell_type": "code",
   "execution_count": 12,
   "id": "db48abf1",
   "metadata": {},
   "outputs": [],
   "source": [
    "X = np.arange(73)                                                         #dataset\n",
    "y = np.concatenate([np.ones(lengths[i])*i for i in range(len(lengths))])  #labels"
   ]
  },
  {
   "cell_type": "code",
   "execution_count": 13,
   "id": "ab290cf1",
   "metadata": {},
   "outputs": [],
   "source": [
    "#compute confusion matrices\n",
    "conf_gw = conf_mat(gw,X=X,y=y) \n",
    "conf_lgw1 = conf_mat(lgw1,X=X,y=y)\n",
    "conf_lgw2 = conf_mat(lgw2,X=X,y=y)"
   ]
  },
  {
   "cell_type": "code",
   "execution_count": 14,
   "id": "cd898d5c",
   "metadata": {},
   "outputs": [
    {
     "data": {
      "image/png": "[encoded data removed]",
      "text/plain": [
       "<Figure size 1296x432 with 6 Axes>"
      ]
     },
     "metadata": {
      "needs_background": "light"
     },
     "output_type": "display_data"
    }
   ],
   "source": [
    "data1 = conf_gw/np.max(conf_gw)\n",
    "data2 = conf_lgw1/np.max(conf_lgw2)\n",
    "data3 = conf_lgw2/np.max(conf_lgw2)\n",
    "\n",
    "resultant = [data1,data2,data3]\n",
    "\n",
    "min_val, max_val = np.amin(resultant), np.amax(resultant)\n",
    "\n",
    "\n",
    "# Set up figure and image grid\n",
    "fig = plt.figure(figsize=(18, 6))\n",
    "\n",
    "\n",
    "grid = ImageGrid(fig, 111,          # as in plt.subplot(111)\n",
    "                 nrows_ncols=(1,3),\n",
    "                 axes_pad=0.15,\n",
    "                 share_all=True,\n",
    "                 cbar_location=\"right\",\n",
    "                 cbar_mode=\"single\",\n",
    "                 cbar_size=\"7%\",\n",
    "                 cbar_pad=0.15,\n",
    "                 )\n",
    "\n",
    "plt.setp(grid, xticks=range(len(class_names)), xticklabels=class_names,\n",
    "        yticks=range(len(class_names)), yticklabels=class_names)\n",
    "\n",
    "# Add data to image grid\n",
    "i=0\n",
    "for ax in grid:\n",
    "    if i == 0:\n",
    "        im = ax.imshow(data1, vmin = min_val, vmax = max_val,cmap = \"jet\")\n",
    "    elif i == 1:\n",
    "        im = ax.imshow(data2, vmin = min_val, vmax = max_val,cmap = \"jet\")\n",
    "    else:\n",
    "        im = ax.imshow(data3, vmin = min_val, vmax = max_val,cmap = \"jet\")\n",
    "    i+=1\n",
    "\n",
    "# Colorbar\n",
    "ax.cax.colorbar(im)\n",
    "#matplotlib.colorbar.Colorbar(ax.cax,im)\n",
    "#ax.cax.cla()\n",
    "ax.cax.toggle_label(True)\n",
    "\n",
    "#plt.tight_layout()    # Works, but may still require rect paramater to keep colorbar labels visible\n",
    "plt.show()"
   ]
  },
  {
   "cell_type": "code",
   "execution_count": 20,
   "id": "e02869a9",
   "metadata": {},
   "outputs": [],
   "source": [
    "classes = np.arange(7)"
   ]
  },
  {
   "cell_type": "code",
   "execution_count": 18,
   "id": "9d352538",
   "metadata": {},
   "outputs": [],
   "source": [
    "y_w10 = np.copy(y)\n",
    "y_w10[10] = -1"
   ]
  },
  {
   "cell_type": "code",
   "execution_count": 49,
   "id": "dc1d0569",
   "metadata": {},
   "outputs": [
    {
     "data": {
      "application/vnd.jupyter.widget-view+json": {
       "model_id": "50516708f04c4ae5a2bae52c79557c18",
       "version_major": 2,
       "version_minor": 0
      },
      "text/plain": [
       "  0%|          | 0/4 [00:00<?, ?it/s]"
      ]
     },
     "metadata": {},
     "output_type": "display_data"
    },
    {
     "data": {
      "application/vnd.jupyter.widget-view+json": {
       "model_id": "f1790b8c54d24c40a585e4c0ff9d63b1",
       "version_major": 2,
       "version_minor": 0
      },
      "text/plain": [
       "  0%|          | 0/73 [00:00<?, ?it/s]"
      ]
     },
     "metadata": {},
     "output_type": "display_data"
    },
    {
     "name": "stdout",
     "output_type": "stream",
     "text": [
      "GW computation: 5.16 seconds.\n"
     ]
    },
    {
     "data": {
      "application/vnd.jupyter.widget-view+json": {
       "model_id": "3b4ab70f7ee448479b19d5c3b010f559",
       "version_major": 2,
       "version_minor": 0
      },
      "text/plain": [
       "  0%|          | 0/73 [00:00<?, ?it/s]"
      ]
     },
     "metadata": {},
     "output_type": "display_data"
    },
    {
     "name": "stdout",
     "output_type": "stream",
     "text": [
      "GW computation: 14.27 seconds.\n"
     ]
    },
    {
     "data": {
      "application/vnd.jupyter.widget-view+json": {
       "model_id": "0ff33a8cd593426ab58bf33905913df6",
       "version_major": 2,
       "version_minor": 0
      },
      "text/plain": [
       "  0%|          | 0/73 [00:00<?, ?it/s]"
      ]
     },
     "metadata": {},
     "output_type": "display_data"
    },
    {
     "name": "stdout",
     "output_type": "stream",
     "text": [
      "GW computation: 36.21 seconds.\n"
     ]
    },
    {
     "data": {
      "application/vnd.jupyter.widget-view+json": {
       "model_id": "c425c68dc263445c87909e047559294a",
       "version_major": 2,
       "version_minor": 0
      },
      "text/plain": [
       "  0%|          | 0/73 [00:00<?, ?it/s]"
      ]
     },
     "metadata": {},
     "output_type": "display_data"
    },
    {
     "name": "stdout",
     "output_type": "stream",
     "text": [
      "GW computation: 75.86 seconds.\n"
     ]
    }
   ],
   "source": [
    "# iterate over k and k_bary\n",
    "np.random.seed(0)\n",
    "\n",
    "gamma = 10 #hyperparameter for gw,lgw kernel\n",
    "coeffs = np.zeros((4,4))\n",
    "mres = np.zeros((4,4))\n",
    "accs_gw = []\n",
    "accs_lgw = np.zeros((4,4))\n",
    "\n",
    "\n",
    "for p in trange(1,5):\n",
    "    for q in range(1,5):\n",
    "        k = 25*p\n",
    "        k_bary = 25*q\n",
    "\n",
    "        #load distance matrices and measures\n",
    "        Ms = []\n",
    "        heights = []\n",
    "        for mm in mm_3d_subsamples(k):\n",
    "            Ms.append(mm[0]/np.max(mm[0]))\n",
    "            heights.append(mm[1])\n",
    "\n",
    "        #pairwise gw\n",
    "        if q == 1:\n",
    "            gw = np.zeros((N,N))\n",
    "            #Ps_gw = np.zeros((N,N,k,k))\n",
    "            st = time.time()\n",
    "            for i in trange(N):\n",
    "                for j in range(i+1,N):\n",
    "                    tmp = ot.gromov.gromov_wasserstein2(Ms[i],Ms[j],heights[i],heights[j],loss_fun=\"square_loss\",log=True)\n",
    "                    gw[i,j] = tmp[0]\n",
    "            gw = np.sqrt(gw)\n",
    "            gw += gw.T\n",
    "            et = time.time()\n",
    "            print(\"GW computation: \" + str(np.round(et-st,2)) + \" seconds.\")\n",
    "\n",
    "        \n",
    "        #k_folds\n",
    "        k_folds = sklearn.model_selection.StratifiedKFold(n_splits = 10)\n",
    "        k_folds.get_n_splits(X,y)\n",
    "        \n",
    "        #K_folds for GW\n",
    "        if q == 1:\n",
    "            k_folds = sklearn.model_selection.StratifiedKFold(n_splits = 10)\n",
    "            k_folds.get_n_splits(X,y)\n",
    "\n",
    "            accs_gw_per_k = []\n",
    "\n",
    "            for train_index,test_index in k_folds.split(X,y):\n",
    "                #get train and test data for this fold\n",
    "                X_train, X_test = X[train_index], X[test_index]\n",
    "                y_train, y_test = y[train_index], y[test_index]\n",
    "\n",
    "                #set up SVM\n",
    "                kernel_train = np.exp(-gamma*gw[X_train].T[X_train].T)\n",
    "                svc = svm.SVC(kernel=\"precomputed\")\n",
    "\n",
    "                #fit SVM\n",
    "                clf = svc.fit(kernel_train, y_train)\n",
    "\n",
    "                kernel_test = np.exp(-gamma*gw[X_test].T[X_train].T)\n",
    "                acc = clf.score(kernel_test, y_test)\n",
    "                accs_gw_per_k.append(acc)\n",
    "            #print(\"Accuracies: \" + str(accs_gw) + \",\\nMean accuracy: \" + str(np.mean(accs_gw)))\n",
    "            accs_gw.append(np.mean(accs_gw_per_k))\n",
    "        accs_lgw_per_k = []\n",
    "        coeff_per_k = []\n",
    "        mre_per_k = []\n",
    "        #k_folds for lgw\n",
    "        for train_index,test_index in k_folds.split(X,y):\n",
    "            X_train, X_test = X[train_index], X[test_index]\n",
    "            y_train, y_test = y[train_index], y[test_index]\n",
    "            \n",
    "            #calculate barycenter\n",
    "            st = time.time()\n",
    "            idx_bary = [np.random.choice(np.where(y_train == i)[0]) for i in classes]\n",
    "\n",
    "            n = len(idx_bary)\n",
    "            height_ref = ot.unif(k_bary)\n",
    "            M_ref = ot.gromov.gromov_barycenters(k_bary, Cs = np.array(Ms)[idx_bary],\n",
    "                                                       ps = np.array(heights)[idx_bary], p = height_ref, lambdas = ot.unif(n), loss_fun='square_loss',  # 5e-4,\n",
    "                                                       max_iter=200, tol=1e-3,random_state=0)\n",
    "            et = time.time()\n",
    "            #print(\"Barycenter computation: \" + str(np.round(et-st,2)) + \" seconds.\")\n",
    "            \n",
    "            #S=bary\n",
    "            lgw,t = lgw_procedure(M_ref,height_ref,None,Ms,heights,mode=\"graph\")\n",
    "            #print(\"LGW computation: \" + str(np.round(t,2)) + \" seconds.\")\n",
    "\n",
    "            #PCC\n",
    "            coeff_per_k.append(np.corrcoef(gw.flatten(),lgw.flatten())[0,1])\n",
    "\n",
    "            #MRE\n",
    "            m_gw = np.ma.masked_equal(gw, 0.0, copy=False)\n",
    "            m_lgw = np.ma.masked_equal(lgw, 0.0, copy=False)\n",
    "            mre_per_k.append(np.mean(np.abs(m_gw - m_lgw)/m_gw))\n",
    "            \n",
    "            #set up SVM\n",
    "            kernel_train = np.exp(-gamma*lgw[X_train].T[X_train].T)\n",
    "            svc = svm.SVC(kernel=\"precomputed\")\n",
    "\n",
    "            #fit SVM\n",
    "            clf = svc.fit(kernel_train, y_train)\n",
    "\n",
    "            kernel_test = np.exp(-gamma*lgw[X_test].T[X_train].T)\n",
    "            accs_lgw_per_k.append(clf.score(kernel_test, y_test))\n",
    "        accs_lgw[p-1,q-1] = np.mean(accs_lgw_per_k)\n",
    "        coeffs[p-1,q-1] = np.mean(coeff_per_k)\n",
    "        mres[p-1,q-1] = np.mean(mre_per_k)"
   ]
  },
  {
   "cell_type": "code",
   "execution_count": 50,
   "id": "89bd5c4d",
   "metadata": {},
   "outputs": [
    {
     "name": "stdout",
     "output_type": "stream",
     "text": [
      "[[0.75774373 0.82252633 0.84521608 0.82829275]\n",
      " [0.86867201 0.92513969 0.92682462 0.93183962]\n",
      " [0.85372856 0.90550277 0.9156189  0.93029714]\n",
      " [0.87696581 0.90801723 0.92129013 0.93708746]]\n"
     ]
    }
   ],
   "source": [
    "print(coeffs)"
   ]
  },
  {
   "cell_type": "code",
   "execution_count": 51,
   "id": "061c809e",
   "metadata": {},
   "outputs": [
    {
     "name": "stdout",
     "output_type": "stream",
     "text": [
      "[[0.23390486 0.16592714 0.16873757 0.17454915]\n",
      " [0.1975652  0.15981317 0.14863292 0.14253784]\n",
      " [0.2408381  0.18842512 0.17988323 0.15863335]\n",
      " [0.24179649 0.20836578 0.17999736 0.16414545]]\n"
     ]
    }
   ],
   "source": [
    "print(mres)"
   ]
  },
  {
   "cell_type": "code",
   "execution_count": 52,
   "id": "17a54d50",
   "metadata": {},
   "outputs": [
    {
     "name": "stdout",
     "output_type": "stream",
     "text": [
      "[1.0, 1.0, 1.0, 1.0]\n"
     ]
    }
   ],
   "source": [
    "print(accs_gw)"
   ]
  },
  {
   "cell_type": "code",
   "execution_count": 53,
   "id": "12cedbb2",
   "metadata": {},
   "outputs": [
    {
     "name": "stdout",
     "output_type": "stream",
     "text": [
      "[[0.94821429 1.         0.9875     0.97142857]\n",
      " [0.9875     0.98571429 1.         0.98571429]\n",
      " [0.96071429 1.         1.         0.98571429]\n",
      " [1.         1.         0.98571429 0.975     ]]\n"
     ]
    }
   ],
   "source": [
    "print(accs_lgw)"
   ]
  },
  {
   "cell_type": "code",
   "execution_count": 72,
   "id": "a6c1329f",
   "metadata": {},
   "outputs": [
    {
     "data": {
      "application/vnd.jupyter.widget-view+json": {
       "model_id": "96872e09235d46a88508c31a6c6e5152",
       "version_major": 2,
       "version_minor": 0
      },
      "text/plain": [
       "  0%|          | 0/4 [00:00<?, ?it/s]"
      ]
     },
     "metadata": {},
     "output_type": "display_data"
    },
    {
     "data": {
      "application/vnd.jupyter.widget-view+json": {
       "model_id": "bc790c1286754e91906ba674efc103e9",
       "version_major": 2,
       "version_minor": 0
      },
      "text/plain": [
       "  0%|          | 0/72 [00:00<?, ?it/s]"
      ]
     },
     "metadata": {},
     "output_type": "display_data"
    },
    {
     "name": "stdout",
     "output_type": "stream",
     "text": [
      "GW computation: 4.98 seconds.\n",
      "LGW computation: 0.27 seconds.\n"
     ]
    },
    {
     "data": {
      "application/vnd.jupyter.widget-view+json": {
       "model_id": "f4f60d92efce4d66bc18725616294292",
       "version_major": 2,
       "version_minor": 0
      },
      "text/plain": [
       "  0%|          | 0/72 [00:00<?, ?it/s]"
      ]
     },
     "metadata": {},
     "output_type": "display_data"
    },
    {
     "name": "stdout",
     "output_type": "stream",
     "text": [
      "GW computation: 13.81 seconds.\n",
      "LGW computation: 0.69 seconds.\n"
     ]
    },
    {
     "data": {
      "application/vnd.jupyter.widget-view+json": {
       "model_id": "a058fb01ef9c4bee8a178f6c79854273",
       "version_major": 2,
       "version_minor": 0
      },
      "text/plain": [
       "  0%|          | 0/72 [00:00<?, ?it/s]"
      ]
     },
     "metadata": {},
     "output_type": "display_data"
    },
    {
     "name": "stdout",
     "output_type": "stream",
     "text": [
      "GW computation: 34.92 seconds.\n",
      "LGW computation: 1.6 seconds.\n"
     ]
    },
    {
     "data": {
      "application/vnd.jupyter.widget-view+json": {
       "model_id": "cf3d5f437c404c668dd32953152471bc",
       "version_major": 2,
       "version_minor": 0
      },
      "text/plain": [
       "  0%|          | 0/72 [00:00<?, ?it/s]"
      ]
     },
     "metadata": {},
     "output_type": "display_data"
    },
    {
     "name": "stdout",
     "output_type": "stream",
     "text": [
      "GW computation: 73.87 seconds.\n",
      "LGW computation: 2.89 seconds.\n",
      "[[0.85357143]\n",
      " [0.925     ]\n",
      " [0.89642857]\n",
      " [0.91071429]]\n",
      "[[0.73003398]\n",
      " [0.84281046]\n",
      " [0.85116894]\n",
      " [0.84965068]]\n",
      "[[0.22047037]\n",
      " [0.21245665]\n",
      " [0.217964  ]\n",
      " [0.26185869]]\n"
     ]
    }
   ],
   "source": [
    "# repeat the experiment for camel 10\n",
    "np.random.seed(0)\n",
    "\n",
    "coeffs_C10 = np.zeros((4,1))\n",
    "mres_C10 = np.zeros((4,1))\n",
    "accs_C10 = np.zeros((4,1))\n",
    "\n",
    "\n",
    "for p in trange(1,5):\n",
    "    k = 25*p\n",
    "\n",
    "    #load distance matrices and measures\n",
    "    Ms = []\n",
    "    heights = []\n",
    "    for mm in mm_3d_subsamples(k):\n",
    "        Ms.append(mm[0]/np.max(mm[0]))\n",
    "        heights.append(mm[1])\n",
    "    Ms = np.array(Ms)\n",
    "    M_C10 = Ms[10]\n",
    "    height_C10 = heights[10]\n",
    "    \n",
    "    #omit camel 10 from data\n",
    "    Ms = np.concatenate([Ms[:10],Ms[11:]])\n",
    "    heights = np.concatenate([heights[:10],heights[11:]])\n",
    "    X_new = np.arange(72)\n",
    "    y_new = np.concatenate([y[:10],y[11:]])\n",
    "    \n",
    "    #pairwise gw\n",
    "    gw = np.zeros((N-1,N-1))\n",
    "    #Ps_gw = np.zeros((N,N,k,k))\n",
    "    st = time.time()\n",
    "    for i in trange(N-1):\n",
    "        for j in range(i+1,N-1):\n",
    "            tmp = ot.gromov.gromov_wasserstein2(Ms[i],Ms[j],heights[i],heights[j],loss_fun=\"square_loss\",log=True)\n",
    "            gw[i,j] = tmp[0]\n",
    "    gw = np.sqrt(gw)\n",
    "    gw += gw.T\n",
    "    et = time.time()\n",
    "    print(\"GW computation: \" + str(np.round(et-st,2)) + \" seconds.\")\n",
    "    \n",
    "    #S=camel\n",
    "    lgw,t = lgw_procedure(M_C10,height_C10,None,Ms,heights,mode=\"graph\")\n",
    "    print(\"LGW computation: \" + str(np.round(t,2)) + \" seconds.\")\n",
    "\n",
    "    #k_folds\n",
    "    gamma = 10 #hyperparameter for gw,lgw kernel\n",
    "    k_folds = sklearn.model_selection.StratifiedKFold(n_splits = 10)\n",
    "    k_folds.get_n_splits(X,y)\n",
    "    \n",
    "    #k_folds for lgw\n",
    "    for train_index,test_index in k_folds.split(X_new,y_new):\n",
    "        X_train, X_test = X[train_index], X[test_index]\n",
    "        y_train, y_test = y[train_index], y[test_index]\n",
    "        #set up SVM\n",
    "        kernel_train = np.exp(-gamma*lgw[X_train].T[X_train].T)\n",
    "        svc = svm.SVC(kernel=\"precomputed\")\n",
    "\n",
    "        #fit SVM\n",
    "        clf = svc.fit(kernel_train, y_train)\n",
    "\n",
    "        kernel_test = np.exp(-gamma*lgw[X_test].T[X_train].T)\n",
    "        #kernel_test = np.array([[gw_kernel(i,j,gamma=gamma) for i in X_train] for j in X_test])\n",
    "        acc = clf.score(kernel_test, y_test)\n",
    "        accs_C10[p-1,0] += acc\n",
    "        \n",
    "        gw_train = gw[X_train].T[X_train].T\n",
    "        lgw_train = lgw[X_train].T[X_train].T\n",
    "        \n",
    "        #PCC\n",
    "        coeffs_C10[p-1,0] += np.corrcoef(gw_train.flatten(),lgw_train.flatten())[0,1]\n",
    "\n",
    "        #MRE\n",
    "        m_gw = np.ma.masked_equal(gw_train, 0.0, copy=False)\n",
    "        m_lgw = np.ma.masked_equal(lgw_train, 0.0, copy=False)\n",
    "        mres_C10[p-1,0] += np.mean(np.abs(m_gw - m_lgw)/m_gw)\n",
    "        \n",
    "accs_C10 /= 10\n",
    "coeffs_C10 /= 10\n",
    "mres_C10 /= 10\n",
    "\n",
    "print(accs_C10)\n",
    "print(coeffs_C10)\n",
    "print(mres_C10)\n"
   ]
  }
 ],
 "metadata": {
  "kernelspec": {
   "display_name": "Python 3 (ipykernel)",
   "language": "python",
   "name": "python3"
  },
  "language_info": {
   "codemirror_mode": {
    "name": "ipython",
    "version": 3
   },
   "file_extension": ".py",
   "mimetype": "text/x-python",
   "name": "python",
   "nbconvert_exporter": "python",
   "pygments_lexer": "ipython3",
   "version": "3.8.8"
  }
 },
 "nbformat": 4,
 "nbformat_minor": 5
}
